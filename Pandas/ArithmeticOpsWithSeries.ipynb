{
 "cells": [
  {
   "cell_type": "markdown",
   "metadata": {},
   "source": [
    "# Arithmetic Operations on Pandas Series"
   ]
  },
  {
   "cell_type": "code",
   "execution_count": 1,
   "metadata": {},
   "outputs": [],
   "source": [
    "import pandas as pd\n",
    "import numpy as np"
   ]
  },
  {
   "cell_type": "code",
   "execution_count": 2,
   "metadata": {},
   "outputs": [],
   "source": [
    "my_series = pd.Series(data=np.random.randint(0,30, size=8), index=[\"apple\", \"orange\", \"ananas\", \"banana\", \"kiwi\", \"mango\", \"papaya\", \"avocado\"])"
   ]
  },
  {
   "cell_type": "code",
   "execution_count": 3,
   "metadata": {},
   "outputs": [
    {
     "data": {
      "text/plain": [
       "apple      11\n",
       "orange      7\n",
       "ananas     10\n",
       "banana      0\n",
       "kiwi       11\n",
       "mango       8\n",
       "papaya     23\n",
       "avocado     5\n",
       "dtype: int64"
      ]
     },
     "execution_count": 3,
     "metadata": {},
     "output_type": "execute_result"
    }
   ],
   "source": [
    "my_series"
   ]
  },
  {
   "cell_type": "markdown",
   "metadata": {},
   "source": [
    "We can now modify the data in our series by performing basic arithmetic operations"
   ]
  },
  {
   "cell_type": "code",
   "execution_count": 4,
   "metadata": {},
   "outputs": [
    {
     "data": {
      "text/plain": [
       "apple      13\n",
       "orange      9\n",
       "ananas     12\n",
       "banana      2\n",
       "kiwi       13\n",
       "mango      10\n",
       "papaya     25\n",
       "avocado     7\n",
       "dtype: int64"
      ]
     },
     "execution_count": 4,
     "metadata": {},
     "output_type": "execute_result"
    }
   ],
   "source": [
    "my_series + 2"
   ]
  },
  {
   "cell_type": "code",
   "execution_count": 5,
   "metadata": {},
   "outputs": [
    {
     "data": {
      "text/plain": [
       "apple      10\n",
       "orange      6\n",
       "ananas      9\n",
       "banana     -1\n",
       "kiwi       10\n",
       "mango       7\n",
       "papaya     22\n",
       "avocado     4\n",
       "dtype: int64"
      ]
     },
     "execution_count": 5,
     "metadata": {},
     "output_type": "execute_result"
    }
   ],
   "source": [
    "my_series - 1"
   ]
  },
  {
   "cell_type": "code",
   "execution_count": 6,
   "metadata": {},
   "outputs": [
    {
     "data": {
      "text/plain": [
       "apple       5.5\n",
       "orange      3.5\n",
       "ananas      5.0\n",
       "banana      0.0\n",
       "kiwi        5.5\n",
       "mango       4.0\n",
       "papaya     11.5\n",
       "avocado     2.5\n",
       "dtype: float64"
      ]
     },
     "execution_count": 6,
     "metadata": {},
     "output_type": "execute_result"
    }
   ],
   "source": [
    "my_series / 2"
   ]
  },
  {
   "cell_type": "code",
   "execution_count": 7,
   "metadata": {},
   "outputs": [
    {
     "data": {
      "text/plain": [
       "apple      22\n",
       "orange     14\n",
       "ananas     20\n",
       "banana      0\n",
       "kiwi       22\n",
       "mango      16\n",
       "papaya     46\n",
       "avocado    10\n",
       "dtype: int64"
      ]
     },
     "execution_count": 7,
     "metadata": {},
     "output_type": "execute_result"
    }
   ],
   "source": [
    "my_series * 2"
   ]
  },
  {
   "cell_type": "markdown",
   "metadata": {},
   "source": [
    "We can also **globally** apply advanced math operation such as `sqrt`, `exp`, `power` provided by numpy(! - amazing right?)"
   ]
  },
  {
   "cell_type": "code",
   "execution_count": 8,
   "metadata": {},
   "outputs": [
    {
     "data": {
      "text/plain": [
       "apple      3.316625\n",
       "orange     2.645751\n",
       "ananas     3.162278\n",
       "banana     0.000000\n",
       "kiwi       3.316625\n",
       "mango      2.828427\n",
       "papaya     4.795832\n",
       "avocado    2.236068\n",
       "dtype: float64"
      ]
     },
     "execution_count": 8,
     "metadata": {},
     "output_type": "execute_result"
    }
   ],
   "source": [
    "np.sqrt(my_series)"
   ]
  },
  {
   "cell_type": "code",
   "execution_count": 9,
   "metadata": {},
   "outputs": [
    {
     "data": {
      "text/plain": [
       "apple      121\n",
       "orange      49\n",
       "ananas     100\n",
       "banana       0\n",
       "kiwi       121\n",
       "mango       64\n",
       "papaya     529\n",
       "avocado     25\n",
       "dtype: int64"
      ]
     },
     "execution_count": 9,
     "metadata": {},
     "output_type": "execute_result"
    }
   ],
   "source": [
    "np.power(my_series,2)"
   ]
  },
  {
   "cell_type": "code",
   "execution_count": 10,
   "metadata": {},
   "outputs": [
    {
     "data": {
      "text/plain": [
       "apple      5.987414e+04\n",
       "orange     1.096633e+03\n",
       "ananas     2.202647e+04\n",
       "banana     1.000000e+00\n",
       "kiwi       5.987414e+04\n",
       "mango      2.980958e+03\n",
       "papaya     9.744803e+09\n",
       "avocado    1.484132e+02\n",
       "dtype: float64"
      ]
     },
     "execution_count": 10,
     "metadata": {},
     "output_type": "execute_result"
    }
   ],
   "source": [
    "np.exp(my_series)"
   ]
  },
  {
   "cell_type": "markdown",
   "metadata": {},
   "source": [
    "Obviously, we can perform mathemtical ops on a specific element of the series. \n",
    "\n",
    "To select an element it's possibile to use the [`iloc` method](https://pandas.pydata.org/pandas-docs/stable/reference/api/pandas.DataFrame.iloc.html) which allows to access to an object using its index location"
   ]
  },
  {
   "cell_type": "code",
   "execution_count": 11,
   "metadata": {},
   "outputs": [
    {
     "name": "stdout",
     "output_type": "stream",
     "text": [
      "sum 100 to element kiwi using iloc:  111\n",
      "sum 100 to element kiwi using index label:  111\n"
     ]
    }
   ],
   "source": [
    "# sum 100 to the element with index label kiwi and index 4 in the series\n",
    "print('sum 100 to element kiwi using iloc: ', my_series.iloc[4] + 100)\n",
    "print('sum 100 to element kiwi using index label: ', my_series['kiwi'] + 100)"
   ]
  },
  {
   "cell_type": "code",
   "execution_count": 12,
   "metadata": {},
   "outputs": [
    {
     "name": "stdout",
     "output_type": "stream",
     "text": [
      "before\n",
      "apple      11\n",
      "orange      7\n",
      "ananas     10\n",
      "banana      0\n",
      "kiwi       11\n",
      "mango       8\n",
      "papaya     23\n",
      "avocado     5\n",
      "dtype: int64\n",
      "\n",
      "after\n",
      "apple      11\n",
      "orange      7\n",
      "ananas     10\n",
      "banana      0\n",
      "kiwi       22\n",
      "mango       8\n",
      "papaya     23\n",
      "avocado    10\n",
      "dtype: int64\n"
     ]
    }
   ],
   "source": [
    "print('before')\n",
    "print(my_series)\n",
    "# math operation on only two elements of the Series\n",
    "my_series[['kiwi', 'avocado']] = my_series[['kiwi', 'avocado']] * 2\n",
    "print('\\nafter')\n",
    "print(my_series)"
   ]
  },
  {
   "cell_type": "markdown",
   "metadata": {},
   "source": [
    "It's possible to apply arithmetic operations on Pandas Series of mixed data type provided that the arithmetic operation is defined for all data types in the Series, otherwise you will get an error.\n",
    "\n",
    "In particular, string type define the `*` operation and this allows Pandas to doubles (etc) the data of each item including the strings. For the other operations Pandas will raise an error"
   ]
  },
  {
   "cell_type": "code",
   "execution_count": 13,
   "metadata": {},
   "outputs": [],
   "source": [
    "my_series = pd.Series(data = [1, 20, True, \"Banana\", \"Kalua\", 231123], index = [\"index1\",\"index2\",\"index3\",\"index4\",\"index5\",\"index6\"])"
   ]
  },
  {
   "cell_type": "code",
   "execution_count": 14,
   "metadata": {},
   "outputs": [
    {
     "data": {
      "text/plain": [
       "index1               2\n",
       "index2              40\n",
       "index3               2\n",
       "index4    BananaBanana\n",
       "index5      KaluaKalua\n",
       "index6          462246\n",
       "dtype: object"
      ]
     },
     "execution_count": 14,
     "metadata": {},
     "output_type": "execute_result"
    }
   ],
   "source": [
    "my_series * 2 "
   ]
  },
  {
   "cell_type": "code",
   "execution_count": null,
   "metadata": {},
   "outputs": [],
   "source": []
  }
 ],
 "metadata": {
  "kernelspec": {
   "display_name": "Python 3",
   "language": "python",
   "name": "python3"
  },
  "language_info": {
   "codemirror_mode": {
    "name": "ipython",
    "version": 3
   },
   "file_extension": ".py",
   "mimetype": "text/x-python",
   "name": "python",
   "nbconvert_exporter": "python",
   "pygments_lexer": "ipython3",
   "version": "3.6.5"
  }
 },
 "nbformat": 4,
 "nbformat_minor": 2
}
